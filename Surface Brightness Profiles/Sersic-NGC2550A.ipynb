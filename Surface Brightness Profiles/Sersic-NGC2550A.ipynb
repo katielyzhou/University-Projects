{
 "cells": [
  {
   "cell_type": "code",
   "execution_count": 1,
   "id": "7552525d",
   "metadata": {},
   "outputs": [],
   "source": [
    "import numpy as np\n",
    "import matplotlib.pyplot as plt\n",
    "from scipy.optimize import curve_fit\n",
    "import scipy.stats\n",
    "import pandas as pd\n",
    "plt.rcParams[\"font.family\"] = \"Times New Roman\"\n",
    "plt.rcParams[\"mathtext.fontset\"] = \"stix\"\n",
    "plt.rcParams[\"font.size\"] = 9"
   ]
  },
  {
   "cell_type": "code",
   "execution_count": 2,
   "id": "1e8d38b8",
   "metadata": {},
   "outputs": [],
   "source": [
    "file = 'katiestack/ngc2550a_ellipsefit_5.txt'\n",
    "sppix = 0.93\n",
    "\n",
    "# Starting Parameters\n",
    "initial = np.array([(15,0.001,4), (15,1,1)])\n",
    "# ue, re, n\n",
    "\n",
    "def Sersic(r, ue, re, n):\n",
    "    b = 2*n - (1/3) + (4/(405*n)) + (46/(25515*n**2)) + (131/(1148175*n**3)) - (2194697/(30690717750*n**4))\n",
    "    cn = (2.5/np.log(10))*b\n",
    "    return ue + cn*((r/re)**(1/n) - 1)"
   ]
  },
  {
   "cell_type": "code",
   "execution_count": 3,
   "id": "f3a25f30",
   "metadata": {},
   "outputs": [],
   "source": [
    "\n",
    "# Reading Data\n",
    "# How many lines to skip to get data.\n",
    "data=open(file,'r')\n",
    "startdata='## Ellipse Parameters:'\n",
    "line = 2\n",
    "readline = True\n",
    "while readline:\n",
    "    linedata=data.readline()\n",
    "    linedata=linedata.strip()\n",
    "    if linedata == startdata:\n",
    "        readline = False\n",
    "    else:\n",
    "        line = line + 1\n",
    "data.close()\n",
    "\n",
    "# How many rows to read. Tried not closing/opening but code would hang.\n",
    "data=open(file,'r')\n",
    "points = '## Number of points:'\n",
    "l = 1\n",
    "readl = True\n",
    "while readl:\n",
    "    linedata=data.readline()\n",
    "    linedata=linedata.strip()\n",
    "    if linedata == points:\n",
    "        readl = False\n",
    "    else:\n",
    "        l = l + 1\n",
    "\n",
    "npts=int(data.readline(l+1))\n",
    "data.close()\n",
    "\n",
    "# Zero Point\n",
    "data=open(file,'r')\n",
    "zeropoint = '## Zero point of magnitude:'\n",
    "z = 1\n",
    "rl = True\n",
    "while rl:\n",
    "    linedata=data.readline()\n",
    "    linedata=linedata.strip()\n",
    "    if linedata == zeropoint:\n",
    "        rl = False\n",
    "    else:\n",
    "        z = z + 1\n",
    "        \n",
    "zpt = data.readline(z+1)\n",
    "zpt = float(zpt.strip())\n",
    "data.close()"
   ]
  },
  {
   "cell_type": "code",
   "execution_count": 6,
   "id": "0835eddc",
   "metadata": {},
   "outputs": [],
   "source": [
    "gaia=np.genfromtxt(file,skip_header=line, max_rows=npts)\n",
    "radius=gaia[:,3] # MeanRad column\n",
    "radius_s = radius*sppix\n",
    "counts=gaia[:,4] # Count column\n",
    "mag=zpt - 2.5*np.log10(counts) \n",
    "\n",
    "ell = gaia[:,6]\n",
    "area = np.pi*radius**2*ell\n",
    "bright = mag + 2.5*np.log10(area)\n",
    "\n",
    "dev = gaia[:,7] # Dev column\n",
    "zpterr = 0.1\n",
    "err = ((2.5 * dev/(np.log(10)*counts))**2 + zpterr**2)**(1/2)\n",
    "\n",
    "radius_err = 0.01*sppix\n",
    "stddev = 5\n",
    "# How many std dev the error bars represent\n",
    "\n",
    "radius_s, bright, err = zip(*sorted(zip(radius_s, bright, err)))\n",
    "radius_s = np.array(radius_s)\n",
    "bright = np.array(bright)\n",
    "err = np.array(err)\n",
    "# Sorting data to not have weird line plots"
   ]
  },
  {
   "cell_type": "code",
   "execution_count": 7,
   "id": "bdce0013",
   "metadata": {},
   "outputs": [],
   "source": [
    "#Data points to specify the two regions. a-b is bulge, c-d is disk.\n",
    "a = 0 #Start\n",
    "b = 7 #End\n",
    "c = 19\n",
    "d = npts+1\n",
    "\n",
    "popt1, cov1 = curve_fit(Sersic, # function to fit\n",
    "                                     radius_s[a:b], # x data\n",
    "                                     bright[a:b], # y data\n",
    "                                     sigma=err[a:b], # set yerr as the array of error bars for the fit\n",
    "                                     absolute_sigma=True, # errors bars DO represent 1 std error\n",
    "                                     p0=initial[0], # starting point for fit\n",
    "                                     check_finite=True, # raise ValueError if NaN encountered (don't allow errors to pass)\n",
    "                                     maxfev=5000\n",
    "                       )\n",
    "popt_errs1 = np.sqrt(np.diag(cov1))\n",
    "\n",
    "popt2, cov2 = curve_fit(Sersic, # function to fit\n",
    "                                     radius_s[c:d], # x data\n",
    "                                     bright[c:d], # y data\n",
    "                                     sigma=err[c:d], # set yerr as the array of error bars for the fit\n",
    "                                     absolute_sigma=True, # errors bars DO represent 1 std error\n",
    "                                     p0=initial[1], # starting point for fit\n",
    "                                     check_finite=True, # raise ValueError if NaN encountered (don't allow errors to pass)\n",
    "                                     maxfev=5000\n",
    "                       )\n",
    "\n",
    "popt_errs2 = np.sqrt(np.diag(cov2))"
   ]
  },
  {
   "cell_type": "code",
   "execution_count": 14,
   "id": "aa72b1b5",
   "metadata": {
    "scrolled": false
   },
   "outputs": [
    {
     "name": "stderr",
     "output_type": "stream",
     "text": [
      "C:\\Users\\katie\\AppData\\Local\\Temp\\ipykernel_11936\\3992327921.py:11: RuntimeWarning: invalid value encountered in power\n",
      "  return ue + cn*((r/re)**(1/n) - 1)\n"
     ]
    },
    {
     "name": "stdout",
     "output_type": "stream",
     "text": [
      "Data points: 32\n"
     ]
    },
    {
     "data": {
      "image/png": "[encoded data removed]",
      "text/plain": [
       "<Figure size 320x320 with 2 Axes>"
      ]
     },
     "metadata": {},
     "output_type": "display_data"
    }
   ],
   "source": [
    "fig, (ax1, ax2) = plt.subplots(nrows=1, ncols=2, width_ratios=[1,1])\n",
    "fig.set_figheight(3.2)\n",
    "fig.set_figwidth(3.2)\n",
    "\n",
    "fit_r = np.linspace(-5, 50, 1000)\n",
    "\n",
    "ax1.plot(fit_r, Sersic(fit_r, *popt1), color='C1')\n",
    "ax1.plot(fit_r, Sersic(fit_r, *popt2), color='C2')\n",
    "\n",
    "ax2.plot(fit_r, Sersic(fit_r, *popt1), color='C1')\n",
    "ax2.plot(fit_r, Sersic(fit_r, *popt2), color='C2')\n",
    "\n",
    "ax1.errorbar(radius_s,bright,yerr=stddev*err, xerr=stddev*radius_err, fmt='o', markersize=0.7, color='black',elinewidth=0.7)\n",
    "ax1.set_ylabel('Surface Brightness (mag arcsec$^{-2}$)')\n",
    "ax1.set_ylim(17.8, 32.2)\n",
    "ax1.set_xlim(0.4, 37)\n",
    "ax1.invert_yaxis()\n",
    "ax1.set_xscale(\"log\")\n",
    "\n",
    "ax2.errorbar(radius_s,bright,yerr=stddev*err, xerr=stddev*radius_err, fmt='o', markersize=0.7, color='black',elinewidth=0.7)\n",
    "ax2.set_ylim(17.8, 32.2)\n",
    "ax2.set_xlim(-0.2, 35)\n",
    "ax2.set_xticks([0, 10, 20, 30])\n",
    "ax2.invert_yaxis()\n",
    "ax2.set_yticks([])\n",
    "\n",
    "fig.supxlabel(\"Radius (arcsec)\", fontsize=9)\n",
    "\n",
    "fig.tight_layout(pad=0.3) # Saving the image otherwise cuts off the labels.\n",
    "fig.savefig('Plots/NGC2550A.png', dpi=500) \n",
    "\n",
    "print(\"Data points: {}\".format(npts))"
   ]
  },
  {
   "cell_type": "code",
   "execution_count": 160,
   "id": "86b85bb6",
   "metadata": {},
   "outputs": [
    {
     "name": "stdout",
     "output_type": "stream",
     "text": [
      "[32.46690151 77.33305735  1.12256548]\n",
      "[ 0.46028623 13.45243512  0.42307397]\n"
     ]
    }
   ],
   "source": [
    "print(popt)\n",
    "print(popt_errs)"
   ]
  },
  {
   "cell_type": "code",
   "execution_count": 161,
   "id": "b90dbafb",
   "metadata": {
    "scrolled": false
   },
   "outputs": [
    {
     "data": {
      "image/png": "[encoded data removed]",
      "text/plain": [
       "<Figure size 500x500 with 1 Axes>"
      ]
     },
     "metadata": {},
     "output_type": "display_data"
    },
    {
     "name": "stdout",
     "output_type": "stream",
     "text": [
      "DW Statistic: 1.769129081929831\n"
     ]
    }
   ],
   "source": [
    "# Lag Plot\n",
    "\n",
    "plt.figure(figsize=(5,5))\n",
    "plt.scatter(norm_r[:-1], norm_r[1:], color='black')\n",
    "\n",
    "# Lag plot is [:-1] (will miss the last value)\n",
    "# Normal is [1:] (starts on i = 2, will miss first value)\n",
    "\n",
    "shade = np.arange(-2,3)\n",
    "plt.fill_between(x=shade, y1=-2, y2=2, color ='black', alpha=0.2)\n",
    "plt.xlabel(\"Normalised Residual (i - 1)\")\n",
    "plt.ylabel(\"Normalised Residual (i)\")\n",
    "plt.xlim(-4, 4)\n",
    "plt.ylim(-4,4)\n",
    "plt.show()\n",
    "\n",
    "step1 = 0\n",
    "step2 = norm_r[0]**2\n",
    "for i in range(1,len(norm_r)):\n",
    "    Diff = norm_r[i] - norm_r[i-1]\n",
    "    step1 = step1 + Diff**2 # Numerator, from i=2 to N\n",
    "    step2 = step2 + norm_r[i]**2 # Denominator, from i=1 to N\n",
    "    \n",
    "DW = step1/step2\n",
    "\n",
    "print(\"DW Statistic: {}\".format(DW))\n",
    "# Sometimes does not change - may need to restart notebook"
   ]
  },
  {
   "cell_type": "code",
   "execution_count": 162,
   "id": "00a6f118",
   "metadata": {},
   "outputs": [
    {
     "name": "stdout",
     "output_type": "stream",
     "text": [
      "chi^2_min = 18.22063046841647\n",
      "reduced chi^2 = 0.4444056211808895\n",
      "$P(chi^2_min, DoF)$ = 0.9992063145363076\n"
     ]
    }
   ],
   "source": [
    "def chisq(model_funct, model_params, x_data, y_data, y_err):\n",
    "    chisqval=0\n",
    "    for i in range(len(x_data)):\n",
    "        chisqval += ((y_data[i] - model_funct(x_data[i], *model_params))/y_err[i])**2 \n",
    "        # NOTE again the asterisk (*) before 'model_params' here!\n",
    "    return chisqval\n",
    "\n",
    "chisq_min = chisq(Sersic, popt, radius_s[a:b], bright[a:b], err[a:b])\n",
    "print('chi^2_min = {}'.format(chisq_min))\n",
    "\n",
    "deg_freedom = len(radius[a:b]) - len(initial)\n",
    "chisq_reduced = chisq_min/deg_freedom\n",
    "print('reduced chi^2 = {}'.format(chisq_reduced))\n",
    "\n",
    "P = scipy.stats.chi2.sf(chisq_min, deg_freedom)\n",
    "print('$P(chi^2_min, DoF)$ = {}'.format(P))"
   ]
  },
  {
   "cell_type": "code",
   "execution_count": null,
   "id": "8b2f6507",
   "metadata": {},
   "outputs": [],
   "source": []
  },
  {
   "cell_type": "code",
   "execution_count": null,
   "id": "40615fb9",
   "metadata": {},
   "outputs": [],
   "source": []
  }
 ],
 "metadata": {
  "kernelspec": {
   "display_name": "Python 3 (ipykernel)",
   "language": "python",
   "name": "python3"
  },
  "language_info": {
   "codemirror_mode": {
    "name": "ipython",
    "version": 3
   },
   "file_extension": ".py",
   "mimetype": "text/x-python",
   "name": "python",
   "nbconvert_exporter": "python",
   "pygments_lexer": "ipython3",
   "version": "3.11.5"
  }
 },
 "nbformat": 4,
 "nbformat_minor": 5
}
